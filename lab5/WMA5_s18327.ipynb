{
 "cells": [
  {
   "cell_type": "markdown",
   "metadata": {},
   "source": [
    "# LAB5: YOLO implementation\n",
    "## Based on the given code, write a Python program using the OpenCV, TensorFlow and Keras libraries that performs the following functions:\n",
    "1. Implement the YOLO algorithm in the version of your choise.\n",
    "2. On the photo indicated in the commandline, the algorithm will indicate the detected objects and mark the on the screen.\n",
    "3. On the film indicated in the commandline it will indicate the detected objects and mark the on the screen.\n",
    "4. The object should be marked as an appropriate envelope and class symbol throughout all the duration of the movie.\n",
    "### Please send the program code and the results of the code (photo and video with tagged objects) via Teams at the time specified in the assignment.\n",
    "### Good luck\n",
    "#### Mateusz Andrzejewski "
   ]
  },
  {
   "cell_type": "code",
   "execution_count": null,
   "metadata": {},
   "outputs": [],
   "source": []
  }
 ],
 "metadata": {
  "language_info": {
   "name": "python"
  },
  "orig_nbformat": 4
 },
 "nbformat": 4,
 "nbformat_minor": 2
}
