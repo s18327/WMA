{
 "cells": [
  {
   "cell_type": "markdown",
   "metadata": {},
   "source": [
    "# LAB1: Object detection\n",
    "### Please write a Python code which realize following functionality:\n",
    "1. The software should read a movie file of given name (should read the name as a runtime parameter),\n",
    "2. It should mark on the screen red object and follow it during all time (circle of proper size)\n",
    "3. Small artifacts (extra dots and holes) should be removed from the screen.\n",
    "4. The software should open two windows, one with movie without transformation and the second with movie transformed and thresholded\n",
    "5. On the screen with no transformed movie red object should be marked and left/right\n",
    "### deviation from the center of the pictures should be inserted.\n",
    "### The task should be sent by Teams system according to the dates specified in the assignment.\n",
    "#### Good luck\n",
    "Mateusz Andrzejewski"
   ]
  },
  {
   "cell_type": "markdown",
   "metadata": {},
   "source": [
    "---"
   ]
  },
  {
   "cell_type": "markdown",
   "metadata": {},
   "source": [
    "### Created by: `Jakub Góralczyk`"
   ]
  },
  {
   "cell_type": "markdown",
   "metadata": {},
   "source": [
    "---"
   ]
  },
  {
   "cell_type": "code",
   "execution_count": 1,
   "metadata": {},
   "outputs": [],
   "source": [
    "from collections import deque\n",
    "import cv2\n",
    "import numpy as np"
   ]
  },
  {
   "cell_type": "code",
   "execution_count": 2,
   "metadata": {},
   "outputs": [],
   "source": [
    "def object_detection(video_string: str = 'videos\\\\F1_r.MOV'):\n",
    "    video = cv2.VideoCapture(video_string)\n",
    "    if video is None:\n",
    "        print(f'Unable to open video at {video_string}')\n",
    "        return\n",
    "\n",
    "    video_height = int(video.get(cv2.CAP_PROP_FRAME_HEIGHT))\n",
    "    video_width  = int(video.get(cv2.CAP_PROP_FRAME_WIDTH))\n",
    "    writer = cv2.VideoWriter('videos\\\\original.mp4',cv2.VideoWriter_fourcc(*'mp4v'),30,(video_width,video_height))\n",
    "    writer2 = cv2.VideoWriter('videos\\\\transformed.mp4',cv2.VideoWriter_fourcc(*'mp4v'),30,(video_width,video_height))\n",
    "    frame_grabbed, frame = video.read()\n",
    "\n",
    "    frame_size = frame.shape[:1]\n",
    "    frame_width = video.get(3)\n",
    "\n",
    "\n",
    "    lower = (155,25,0) #lower bound for red color\n",
    "    upper = (179,255,255) #upper bound for red color\n",
    "\n",
    "    # value -> ksize\n",
    "    value = 14\n",
    "    while frame_grabbed:\n",
    "        hsv = cv2.cvtColor(frame, cv2.COLOR_BGR2HSV) # convert to HSV\n",
    "\n",
    "        mask = cv2.inRange(hsv,lower,upper) # create mask from lower to upper bounds\n",
    "\n",
    "        mask = cv2.erode(mask,cv2.getStructuringElement(cv2.MORPH_ELLIPSE,(value,value))) # erode mask based on structuring element size 14 x 14 pixels ellipse\n",
    "        mask = cv2.dilate(mask,cv2.getStructuringElement(cv2.MORPH_ELLIPSE,(value,value)))# dilate mask based on structuring element size 14 x 14 pixels ellipse\n",
    "\n",
    "        mask = cv2.dilate(mask,cv2.getStructuringElement(cv2.MORPH_ELLIPSE,(value,value))) # dilate mask based on structuring element size 14 x 14 pixels ellipse\n",
    "        mask = cv2.erode(mask,cv2.getStructuringElement(cv2.MORPH_ELLIPSE,(value,value))) # erode mask based on structuring element size 14 x 14 pixels ellipse\n",
    "\n",
    "        contours = cv2.findContours(mask.copy(), cv2.RETR_EXTERNAL, cv2.CHAIN_APPROX_SIMPLE)[-2] # find contours in mask\n",
    "\n",
    "        #center is a value for the middle of the object\n",
    "        center = None \n",
    "\n",
    "\n",
    "        if len(contours) > 0: \n",
    "            #getting the position and radius for the circle\n",
    "            c = max(contours, key=cv2.contourArea)\n",
    "            ((x, y), radius) = cv2.minEnclosingCircle(c)\n",
    "            M = cv2.moments(c)\n",
    "            # center stores x and y values of the center poin of the tracked object\n",
    "            center = (int(M[\"m10\"] / M[\"m00\"]), int(M[\"m01\"] / M[\"m00\"]))\n",
    "\n",
    "            if radius > 20:\n",
    "                #creates a circle around the object\n",
    "                cv2.circle(frame, (int(x), int(y)), int(radius),\n",
    "\t\t\t\t(0, 255, 255), 2)\n",
    "\n",
    "\n",
    "        #line follows from the middle of a window to the center of the tracked object\n",
    "        cv2.line(frame, (int(center[0]), 10), (int(frame_width/2), 10), (255, 255, 255), thickness=5)\n",
    "        #cv2.imshow('original',frame)\n",
    "        #cv2.imshow('transformed',mask)\n",
    "\n",
    "        writer.write(frame)\n",
    "        mask  = cv2.cvtColor(mask, cv2.COLOR_GRAY2RGB)\n",
    "        writer2.write(mask)\n",
    "\n",
    "        if cv2.waitKey(1) & 0xFF == ord('q'):\n",
    "            break\n",
    "        frame_grabbed, frame = video.read()\n",
    "    writer.release()\n",
    "    writer2.release()\n",
    "    video.release()\n",
    "    cv2.destroyAllWindows()"
   ]
  },
  {
   "cell_type": "code",
   "execution_count": 3,
   "metadata": {},
   "outputs": [],
   "source": [
    "object_detection()"
   ]
  }
 ],
 "metadata": {
  "interpreter": {
   "hash": "109cd3d9883792cd7489d1b37a25a63dec1af4213b5535a4b511d02f1da8a41f"
  },
  "kernelspec": {
   "display_name": "Python 3.10.4 ('MIW')",
   "language": "python",
   "name": "python3"
  },
  "language_info": {
   "codemirror_mode": {
    "name": "ipython",
    "version": 3
   },
   "file_extension": ".py",
   "mimetype": "text/x-python",
   "name": "python",
   "nbconvert_exporter": "python",
   "pygments_lexer": "ipython3",
   "version": "3.10.4"
  },
  "orig_nbformat": 4
 },
 "nbformat": 4,
 "nbformat_minor": 2
}
