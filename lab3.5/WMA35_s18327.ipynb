{
 "cells": [
  {
   "cell_type": "markdown",
   "metadata": {},
   "source": [
    "# LAB3,5: Opitcal Flow\n",
    "### The task is an additional / not obligatory task:\n",
    "### Please write a program in Python and OpenCV libraries that includes functionality as follow:\n",
    "\n",
    "1. The software will read the movie file with the name given in the command line parameters\n",
    "2. It will automatically mark good tracking points on the screen and will follow its throughout the duration of the video\n",
    "3. It will open a window in which the movie and the path of the selected points will be displayed.\n",
    "\n",
    "### Please deliver the code along with the video generated from its operation via the Teams\n",
    "### platform to the next classes.\n",
    "#### Good luck\n",
    "\n",
    "Mateusz Andrzejewski"
   ]
  },
  {
   "cell_type": "markdown",
   "metadata": {},
   "source": [
    "---"
   ]
  },
  {
   "cell_type": "markdown",
   "metadata": {},
   "source": [
    "### Created by: `Jakub Góralczyk`"
   ]
  },
  {
   "cell_type": "markdown",
   "metadata": {},
   "source": [
    "---"
   ]
  },
  {
   "cell_type": "code",
   "execution_count": 2,
   "metadata": {},
   "outputs": [],
   "source": [
    "import numpy as np\n",
    "import cv2"
   ]
  },
  {
   "cell_type": "code",
   "execution_count": 5,
   "metadata": {},
   "outputs": [],
   "source": [
    "def optical_flow(video_path:str =\"videos\\\\plane.mov\"):\n",
    "   \n",
    "    video_input = cv2.VideoCapture(video_path)\n",
    "    # params for Shi-Tomasi corner detection\n",
    "    if video_input is None:\n",
    "        print(f'Unable to open video at {video_input}')\n",
    "\n",
    "    video_height = int(video_input.get(cv2.CAP_PROP_FRAME_HEIGHT))\n",
    "    video_width  = int(video_input.get(cv2.CAP_PROP_FRAME_WIDTH))\n",
    "    writer = cv2.VideoWriter('videos\\\\plane_output.mp4',cv2.VideoWriter_fourcc(*'mp4v'),30,(video_width,video_height))\n",
    "\n",
    "    feature_params = dict( maxCorners = 100,\n",
    "                           qualityLevel = 0.3,\n",
    "                           minDistance = 7,\n",
    "                           blockSize = 7 )\n",
    "\n",
    "    # Parameters for Lucas Kanade optical flow\n",
    "    lk_params = dict( winSize  = (15,15),\n",
    "                      maxLevel = 2,\n",
    "                      criteria = (cv2.TERM_CRITERIA_EPS | cv2.TERM_CRITERIA_COUNT, 10, 0.03))\n",
    "\n",
    "    # Create some random colors\n",
    "    color = np.random.randint(0,255,(100,3))\n",
    "\n",
    "    # Take first frame and find corners in it\n",
    "    frame_grabbed, old_frame = video_input.read()\n",
    "    old_gray = cv2.cvtColor(old_frame, cv2.COLOR_BGR2GRAY) # convert to grayscale\n",
    "    p0 = cv2.goodFeaturesToTrack(old_gray, mask = None, **feature_params)\n",
    "\n",
    "    # Create a mask image for drawing purposes\n",
    "    mask = np.zeros_like(old_frame)\n",
    "\n",
    "    while(frame_grabbed):\n",
    "        if cv2.waitKey(1) & 0xFF == ord('q'):\n",
    "            break\n",
    "        frame_grabbed,frame = video_input.read()\n",
    "        try:\n",
    "            frame_gray = cv2.cvtColor(frame, cv2.COLOR_BGR2GRAY) # convert to grayscale\n",
    "        except Exception:\n",
    "            print()\n",
    "        # calculate optical flow\n",
    "        p1, st, err = cv2.calcOpticalFlowPyrLK(old_gray, frame_gray, p0, None, **lk_params) # p0 is the previous frame, p1 is the next frame and st is the status of the points\n",
    "\n",
    "        # Select good points\n",
    "        good_new = p1[st==1]\n",
    "        good_old = p0[st==1]\n",
    "        \n",
    "        # draw the tracks\n",
    "        for i,(new,old) in enumerate(zip(good_new, good_old)):\n",
    "            a,b = new.ravel() \n",
    "            c,d = old.ravel()\n",
    "            mask = cv2.line(mask, (int(a), int(b)), (int(c), int(d)), color[i].tolist(), 2) \n",
    "            frame = cv2.circle(frame, (int(a), int(b)), 3, color[i].tolist(),-1)\n",
    "        try:\n",
    "            img = cv2.add(frame,mask)\n",
    "        except Exception:\n",
    "            print()\n",
    "        cv2.imshow('frame',img) # show frame\n",
    "        writer.write(img) # write frame to video file\n",
    "        k = cv2.waitKey(30) & 0xff # wait for 'esc' key press \n",
    "        \n",
    "        # Now update the previous frame and previous points\n",
    "        old_gray = frame_gray.copy()\n",
    "        p0 = good_new.reshape(-1,1,2) \n",
    "\n",
    "    video_input.release()\n",
    "    writer.release()\n",
    "    cv2.destroyAllWindows()"
   ]
  },
  {
   "cell_type": "code",
   "execution_count": 6,
   "metadata": {},
   "outputs": [
    {
     "name": "stdout",
     "output_type": "stream",
     "text": [
      "\n",
      "\n"
     ]
    }
   ],
   "source": [
    "optical_flow()"
   ]
  }
 ],
 "metadata": {
  "interpreter": {
   "hash": "109cd3d9883792cd7489d1b37a25a63dec1af4213b5535a4b511d02f1da8a41f"
  },
  "kernelspec": {
   "display_name": "Python 3.10.4 ('MIW')",
   "language": "python",
   "name": "python3"
  },
  "language_info": {
   "codemirror_mode": {
    "name": "ipython",
    "version": 3
   },
   "file_extension": ".py",
   "mimetype": "text/x-python",
   "name": "python",
   "nbconvert_exporter": "python",
   "pygments_lexer": "ipython3",
   "version": "3.10.4"
  },
  "orig_nbformat": 4
 },
 "nbformat": 4,
 "nbformat_minor": 2
}
