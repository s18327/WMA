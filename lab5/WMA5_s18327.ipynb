{
 "cells": [
  {
   "cell_type": "markdown",
   "metadata": {},
   "source": [
    "# LAB5: YOLO implementation\n",
    "## Based on the given code, write a Python program using the OpenCV, TensorFlow and Keras libraries that performs the following functions:\n",
    "1. Implement the YOLO algorithm in theversionof your choise.\n",
    "2. On the photo indicated in the commandline, the algorithmwill indicate the detected objects and mark the on the screen.\n",
    "3. On the film indicated in the commandline itwill indicate the detected objects and mark the on the screen.\n",
    "4. The object should be marked asan appropriate envelope and class symbol throughoutall the duration of the movie.\n",
    "### Please send the program code and the results of the code (photo and video with tagged objects) via Teams at the time specified in the assignment.\n",
    "### Good luck\n",
    "#### Mateusz Andrzejewski "
   ]
  },
  {
   "cell_type": "code",
   "execution_count": null,
   "metadata": {},
   "outputs": [],
   "source": []
  }
 ],
 "metadata": {
  "language_info": {
   "name": "python"
  },
  "orig_nbformat": 4
 },
 "nbformat": 4,
 "nbformat_minor": 2
}
